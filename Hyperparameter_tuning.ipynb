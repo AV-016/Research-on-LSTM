{
  "nbformat": 4,
  "nbformat_minor": 0,
  "metadata": {
    "colab": {
      "provenance": [],
      "authorship_tag": "ABX9TyN4MJ89dRKamdhXzcSFbJoK",
      "include_colab_link": true
    },
    "kernelspec": {
      "name": "python3",
      "display_name": "Python 3"
    },
    "language_info": {
      "name": "python"
    }
  },
  "cells": [
    {
      "cell_type": "markdown",
      "metadata": {
        "id": "view-in-github",
        "colab_type": "text"
      },
      "source": [
        "<a href=\"https://colab.research.google.com/github/AV-016/Research-on-LSTM/blob/main/Hyperparameter_tuning.ipynb\" target=\"_parent\"><img src=\"https://colab.research.google.com/assets/colab-badge.svg\" alt=\"Open In Colab\"/></a>"
      ]
    },
    {
      "cell_type": "code",
      "execution_count": 2,
      "metadata": {
        "colab": {
          "base_uri": "https://localhost:8080/"
        },
        "id": "9hr2UMUj2DAt",
        "outputId": "f12f715a-2073-4248-f4aa-f0810a507c01"
      },
      "outputs": [
        {
          "output_type": "stream",
          "name": "stdout",
          "text": [
            "Trial 30 Complete [00h 00m 54s]\n",
            "val_loss: 0.0012066987110301852\n",
            "\n",
            "Best val_loss So Far: 0.0006280053639784455\n",
            "Total elapsed time: 00h 15m 05s\n",
            "\u001b[1m8/8\u001b[0m \u001b[32m━━━━━━━━━━━━━━━━━━━━\u001b[0m\u001b[37m\u001b[0m \u001b[1m1s\u001b[0m 66ms/step\n",
            "📊 AAPL RMSE: 0.0251\n",
            "📊 AAPL MAPE: 2.18%\n"
          ]
        }
      ],
      "source": [
        "!pip install keras_tuner\n",
        "\n",
        "import numpy as np\n",
        "import pandas as pd\n",
        "import yfinance as yf\n",
        "import matplotlib.pyplot as plt\n",
        "from sklearn.preprocessing import MinMaxScaler\n",
        "from sklearn.metrics import mean_squared_error, mean_absolute_percentage_error\n",
        "import tensorflow as tf\n",
        "from tensorflow.keras.models import Sequential\n",
        "from tensorflow.keras.layers import LSTM, Dense\n",
        "from tensorflow.keras.callbacks import EarlyStopping\n",
        "import keras_tuner as kt\n",
        "\n",
        "# Load your data (example for one ticker)\n",
        "def load_data(ticker, sequence_length=60):\n",
        "    df = yf.download(ticker, period='5y')\n",
        "    df = df[['Close', 'High', 'Low', 'Volume']]\n",
        "    scaler = MinMaxScaler()\n",
        "    scaled_data = scaler.fit_transform(df)\n",
        "\n",
        "    X, y = [], []\n",
        "    for i in range(sequence_length, len(scaled_data)):\n",
        "        X.append(scaled_data[i - sequence_length:i])\n",
        "        y.append(scaled_data[i, 0])  # predicting 'Close'\n",
        "\n",
        "    return np.array(X), np.array(y), scaler\n",
        "\n",
        "# Model builder function\n",
        "def build_model(hp):\n",
        "    model = Sequential()\n",
        "    model.add(LSTM(\n",
        "        units=hp.Int('lstm_units', min_value=32, max_value=256, step=32),\n",
        "        return_sequences=False,\n",
        "        input_shape=input_shape\n",
        "    ))\n",
        "    model.add(Dense(hp.Int('dense_units', min_value=16, max_value=128, step=16)))\n",
        "    model.add(Dense(1))\n",
        "\n",
        "    model.compile(\n",
        "        optimizer=tf.keras.optimizers.Adam(\n",
        "            learning_rate=hp.Choice('learning_rate', [1e-2, 1e-3, 1e-4])\n",
        "        ),\n",
        "        loss='mean_squared_error'\n",
        "    )\n",
        "    return model\n",
        "\n",
        "# Tuner function\n",
        "def run_tuning(X_train, y_train, X_val, y_val):\n",
        "    tuner = kt.Hyperband(\n",
        "        build_model,\n",
        "        objective='val_loss',\n",
        "        max_epochs=20,\n",
        "        factor=3,\n",
        "        directory='tuning_logs',\n",
        "        project_name='lstm_tune'\n",
        "    )\n",
        "\n",
        "    early_stop = EarlyStopping(monitor='val_loss', patience=3)\n",
        "\n",
        "    tuner.search(\n",
        "        X_train, y_train,\n",
        "        epochs=20,\n",
        "        validation_data=(X_val, y_val),\n",
        "        callbacks=[early_stop],\n",
        "        verbose=1\n",
        "    )\n",
        "\n",
        "    best_model = tuner.get_best_models(num_models=1)[0]\n",
        "    return best_model, tuner\n",
        "\n",
        "# Run the tuning\n",
        "ticker = 'AAPL'\n",
        "X, y, scaler = load_data(ticker)\n",
        "input_shape = (X.shape[1], X.shape[2])\n",
        "\n",
        "# Split the data\n",
        "split_index = int(len(X) * 0.8)\n",
        "X_train, X_val = X[:split_index], X[split_index:]\n",
        "y_train, y_val = y[:split_index], y[split_index:]\n",
        "\n",
        "best_model, tuner = run_tuning(X_train, y_train, X_val, y_val)\n",
        "\n",
        "# Evaluate model\n",
        "predictions = best_model.predict(X_val)\n",
        "rmse = np.sqrt(mean_squared_error(y_val, predictions))\n",
        "mape = mean_absolute_percentage_error(y_val, predictions)\n",
        "\n",
        "print(f'📊 {ticker} RMSE: {rmse:.4f}')\n",
        "print(f'📊 {ticker} MAPE: {mape:.2%}')\n"
      ]
    },
    {
      "cell_type": "code",
      "source": [
        "tickers = ['MSFT', 'GOOGL', 'AMZN','AAPL']\n",
        "results = []\n",
        "\n",
        "for ticker in tickers:\n",
        "    print(f\"\\n📈 Processing {ticker}...\")\n",
        "\n",
        "    df = yf.download(ticker, start=\"2020-01-01\", end=\"2024-01-01\")\n",
        "    df = df[['Close', 'High', 'Low', 'Volume']]\n",
        "\n",
        "    scaler = MinMaxScaler()\n",
        "    scaled = scaler.fit_transform(df)\n",
        "\n",
        "    def create_sequences(data, seq_length):\n",
        "        X, y = [], []\n",
        "        for i in range(len(data) - seq_length - 7):\n",
        "            X.append(data[i:i + seq_length])\n",
        "            y.append(data[i + seq_length:i + seq_length + 7, 0])\n",
        "        return np.array(X), np.array(y)\n",
        "\n",
        "    SEQ_LEN = 60\n",
        "    X, y = create_sequences(scaled, SEQ_LEN)\n",
        "\n",
        "    split = int(len(X) * 0.8)\n",
        "    X_train, y_train = X[:split], y[:split]\n",
        "    X_test, y_test = X[split:], y[split:]\n",
        "\n",
        "    # 👇 Use the best hyperparameters (from tuner)\n",
        "    best_units = 64\n",
        "    best_dense = 64\n",
        "    best_batch_size = 32\n",
        "    best_epochs = 50\n",
        "\n",
        "    model = Sequential([\n",
        "        LSTM(best_units, return_sequences=True, input_shape=(SEQ_LEN, X.shape[2])),\n",
        "        LSTM(best_units),\n",
        "        Dense(best_dense, activation='relu'),\n",
        "        Dense(7)  # 7-day prediction\n",
        "    ])\n",
        "\n",
        "    model.compile(optimizer='adam', loss='mse')\n",
        "    model.fit(X_train, y_train, validation_split=0.1, epochs=best_epochs,\n",
        "              batch_size=best_batch_size, verbose=0)\n",
        "\n",
        "    # Predictions\n",
        "    preds_7d = model.predict(X_test)\n",
        "    preds_1d = preds_7d[:, 0]  # 1-day ahead\n",
        "    true_1d = y_test[:, 0]\n",
        "\n",
        "    # Inverse scale for RMSE & MAPE\n",
        "    close_index = df.columns.get_loc(\"Close\")\n",
        "    y_test_rescaled = scaler.inverse_transform(np.concatenate(\n",
        "        [y_test[:, [0]], np.zeros((y_test.shape[0], 3))], axis=1))[:, 0]\n",
        "    preds_1d_rescaled = scaler.inverse_transform(np.concatenate(\n",
        "        [preds_1d.reshape(-1, 1), np.zeros((len(preds_1d), 3))], axis=1))[:, 0]\n",
        "\n",
        "    rmse_1d = np.sqrt(np.mean((preds_1d_rescaled - y_test_rescaled) ** 2))\n",
        "    mape_1d = np.mean(np.abs((preds_1d_rescaled - y_test_rescaled) / y_test_rescaled)) * 100\n",
        "\n",
        "    y_test_7d = y_test[:, :7].mean(axis=1)\n",
        "    preds_7d_mean = preds_7d.mean(axis=1)\n",
        "\n",
        "    y_test_7d_rescaled = scaler.inverse_transform(np.concatenate(\n",
        "        [y_test_7d.reshape(-1, 1), np.zeros((len(y_test_7d), 3))], axis=1))[:, 0]\n",
        "    preds_7d_rescaled = scaler.inverse_transform(np.concatenate(\n",
        "        [preds_7d_mean.reshape(-1, 1), np.zeros((len(preds_7d_mean), 3))], axis=1))[:, 0]\n",
        "\n",
        "    rmse_7d = np.sqrt(np.mean((preds_7d_rescaled - y_test_7d_rescaled) ** 2))\n",
        "    mape_7d = np.mean(np.abs((preds_7d_rescaled - y_test_7d_rescaled) / y_test_7d_rescaled)) * 100\n",
        "\n",
        "    results.append([ticker, rmse_1d, mape_1d, rmse_7d, mape_7d])\n",
        "\n",
        "    print(f\"📊 {ticker} RMSE (1-day): {rmse_1d:.4f}\")\n",
        "    print(f\"📊 {ticker} MAPE (1-day): {mape_1d:.2f}%\")\n",
        "    print(f\"📊 {ticker} RMSE (7-day): {rmse_7d:.4f}\")\n",
        "    print(f\"📊 {ticker} MAPE (7-day): {mape_7d:.2f}%\")\n"
      ],
      "metadata": {
        "colab": {
          "base_uri": "https://localhost:8080/"
        },
        "id": "2yL-2V1FbWfi",
        "outputId": "1cce8bee-ec91-456d-f4f3-bac21ce95d5f"
      },
      "execution_count": 4,
      "outputs": [
        {
          "output_type": "stream",
          "name": "stderr",
          "text": [
            "\r[*********************100%***********************]  1 of 1 completed"
          ]
        },
        {
          "output_type": "stream",
          "name": "stdout",
          "text": [
            "\n",
            "📈 Processing MSFT...\n"
          ]
        },
        {
          "output_type": "stream",
          "name": "stderr",
          "text": [
            "\n",
            "/usr/local/lib/python3.11/dist-packages/keras/src/layers/rnn/rnn.py:200: UserWarning: Do not pass an `input_shape`/`input_dim` argument to a layer. When using Sequential models, prefer using an `Input(shape)` object as the first layer in the model instead.\n",
            "  super().__init__(**kwargs)\n"
          ]
        },
        {
          "output_type": "stream",
          "name": "stdout",
          "text": [
            "\u001b[1m6/6\u001b[0m \u001b[32m━━━━━━━━━━━━━━━━━━━━\u001b[0m\u001b[37m\u001b[0m \u001b[1m1s\u001b[0m 88ms/step\n"
          ]
        },
        {
          "output_type": "stream",
          "name": "stderr",
          "text": [
            "\r[*********************100%***********************]  1 of 1 completed"
          ]
        },
        {
          "output_type": "stream",
          "name": "stdout",
          "text": [
            "📊 MSFT RMSE (1-day): 6.0474\n",
            "📊 MSFT MAPE (1-day): 1.46%\n",
            "📊 MSFT RMSE (7-day): 9.0447\n",
            "📊 MSFT MAPE (7-day): 2.21%\n",
            "\n",
            "📈 Processing GOOGL...\n"
          ]
        },
        {
          "output_type": "stream",
          "name": "stderr",
          "text": [
            "\n",
            "/usr/local/lib/python3.11/dist-packages/keras/src/layers/rnn/rnn.py:200: UserWarning: Do not pass an `input_shape`/`input_dim` argument to a layer. When using Sequential models, prefer using an `Input(shape)` object as the first layer in the model instead.\n",
            "  super().__init__(**kwargs)\n"
          ]
        },
        {
          "output_type": "stream",
          "name": "stdout",
          "text": [
            "\u001b[1m6/6\u001b[0m \u001b[32m━━━━━━━━━━━━━━━━━━━━\u001b[0m\u001b[37m\u001b[0m \u001b[1m1s\u001b[0m 87ms/step\n"
          ]
        },
        {
          "output_type": "stream",
          "name": "stderr",
          "text": [
            "\r[*********************100%***********************]  1 of 1 completed"
          ]
        },
        {
          "output_type": "stream",
          "name": "stdout",
          "text": [
            "📊 GOOGL RMSE (1-day): 3.1762\n",
            "📊 GOOGL MAPE (1-day): 1.92%\n",
            "📊 GOOGL RMSE (7-day): 4.0916\n",
            "📊 GOOGL MAPE (7-day): 2.40%\n",
            "\n",
            "📈 Processing AMZN...\n"
          ]
        },
        {
          "output_type": "stream",
          "name": "stderr",
          "text": [
            "\n",
            "/usr/local/lib/python3.11/dist-packages/keras/src/layers/rnn/rnn.py:200: UserWarning: Do not pass an `input_shape`/`input_dim` argument to a layer. When using Sequential models, prefer using an `Input(shape)` object as the first layer in the model instead.\n",
            "  super().__init__(**kwargs)\n"
          ]
        },
        {
          "output_type": "stream",
          "name": "stdout",
          "text": [
            "\u001b[1m6/6\u001b[0m \u001b[32m━━━━━━━━━━━━━━━━━━━━\u001b[0m\u001b[37m\u001b[0m \u001b[1m1s\u001b[0m 93ms/step\n",
            "📊 AMZN RMSE (1-day): 3.8582\n",
            "📊 AMZN MAPE (1-day): 2.34%\n",
            "📊 AMZN RMSE (7-day): 6.2705\n",
            "📊 AMZN MAPE (7-day): 3.86%\n",
            "\n",
            "📈 Processing AAPL...\n"
          ]
        },
        {
          "output_type": "stream",
          "name": "stderr",
          "text": [
            "\r[*********************100%***********************]  1 of 1 completed\n",
            "/usr/local/lib/python3.11/dist-packages/keras/src/layers/rnn/rnn.py:200: UserWarning: Do not pass an `input_shape`/`input_dim` argument to a layer. When using Sequential models, prefer using an `Input(shape)` object as the first layer in the model instead.\n",
            "  super().__init__(**kwargs)\n"
          ]
        },
        {
          "output_type": "stream",
          "name": "stdout",
          "text": [
            "\u001b[1m6/6\u001b[0m \u001b[32m━━━━━━━━━━━━━━━━━━━━\u001b[0m\u001b[37m\u001b[0m \u001b[1m1s\u001b[0m 84ms/step\n",
            "📊 AAPL RMSE (1-day): 4.5006\n",
            "📊 AAPL MAPE (1-day): 2.12%\n",
            "📊 AAPL RMSE (7-day): 6.2087\n",
            "📊 AAPL MAPE (7-day): 2.97%\n"
          ]
        }
      ]
    },
    {
      "cell_type": "code",
      "source": [],
      "metadata": {
        "id": "pm3MUtZAbY8k"
      },
      "execution_count": null,
      "outputs": []
    }
  ]
}